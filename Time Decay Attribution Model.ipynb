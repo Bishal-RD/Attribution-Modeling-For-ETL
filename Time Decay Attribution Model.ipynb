{
 "cells": [
  {
   "cell_type": "code",
   "execution_count": 6,
   "id": "9a4242b8-02a7-41aa-9cc1-5d95cc6e9fa2",
   "metadata": {},
   "outputs": [],
   "source": [
    "import pandas as pd\n",
    "import matplotlib.pyplot as plt\n",
    "import seaborn as sns\n",
    "import numpy as np\n",
    "\n",
    "%matplotlib inline"
   ]
  },
  {
   "cell_type": "code",
   "execution_count": 7,
   "id": "8e1640e1-0c1d-4550-94f8-7d74fe4c7ee1",
   "metadata": {},
   "outputs": [
    {
     "data": {
      "text/html": [
       "<div>\n",
       "<style scoped>\n",
       "    .dataframe tbody tr th:only-of-type {\n",
       "        vertical-align: middle;\n",
       "    }\n",
       "\n",
       "    .dataframe tbody tr th {\n",
       "        vertical-align: top;\n",
       "    }\n",
       "\n",
       "    .dataframe thead th {\n",
       "        text-align: right;\n",
       "    }\n",
       "</style>\n",
       "<table border=\"1\" class=\"dataframe\">\n",
       "  <thead>\n",
       "    <tr style=\"text-align: right;\">\n",
       "      <th></th>\n",
       "      <th>cookie</th>\n",
       "      <th>time</th>\n",
       "      <th>interaction</th>\n",
       "      <th>conversion</th>\n",
       "      <th>conversion_value</th>\n",
       "      <th>channel</th>\n",
       "    </tr>\n",
       "  </thead>\n",
       "  <tbody>\n",
       "    <tr>\n",
       "      <th>0</th>\n",
       "      <td>00000FkCnDfDDf0iC97iC703B</td>\n",
       "      <td>2018-07-03T13:02:11Z</td>\n",
       "      <td>impression</td>\n",
       "      <td>0</td>\n",
       "      <td>0.0</td>\n",
       "      <td>Instagram</td>\n",
       "    </tr>\n",
       "    <tr>\n",
       "      <th>1</th>\n",
       "      <td>00000FkCnDfDDf0iC97iC703B</td>\n",
       "      <td>2018-07-17T19:15:07Z</td>\n",
       "      <td>impression</td>\n",
       "      <td>0</td>\n",
       "      <td>0.0</td>\n",
       "      <td>Online Display</td>\n",
       "    </tr>\n",
       "    <tr>\n",
       "      <th>2</th>\n",
       "      <td>00000FkCnDfDDf0iC97iC703B</td>\n",
       "      <td>2018-07-24T15:51:46Z</td>\n",
       "      <td>impression</td>\n",
       "      <td>0</td>\n",
       "      <td>0.0</td>\n",
       "      <td>Online Display</td>\n",
       "    </tr>\n",
       "    <tr>\n",
       "      <th>3</th>\n",
       "      <td>00000FkCnDfDDf0iC97iC703B</td>\n",
       "      <td>2018-07-29T07:44:51Z</td>\n",
       "      <td>impression</td>\n",
       "      <td>0</td>\n",
       "      <td>0.0</td>\n",
       "      <td>Online Display</td>\n",
       "    </tr>\n",
       "    <tr>\n",
       "      <th>4</th>\n",
       "      <td>0000nACkD9nFkBBDECD3ki00E</td>\n",
       "      <td>2018-07-03T09:44:57Z</td>\n",
       "      <td>impression</td>\n",
       "      <td>0</td>\n",
       "      <td>0.0</td>\n",
       "      <td>Paid Search</td>\n",
       "    </tr>\n",
       "  </tbody>\n",
       "</table>\n",
       "</div>"
      ],
      "text/plain": [
       "                      cookie                  time interaction  conversion  \\\n",
       "0  00000FkCnDfDDf0iC97iC703B  2018-07-03T13:02:11Z  impression           0   \n",
       "1  00000FkCnDfDDf0iC97iC703B  2018-07-17T19:15:07Z  impression           0   \n",
       "2  00000FkCnDfDDf0iC97iC703B  2018-07-24T15:51:46Z  impression           0   \n",
       "3  00000FkCnDfDDf0iC97iC703B  2018-07-29T07:44:51Z  impression           0   \n",
       "4  0000nACkD9nFkBBDECD3ki00E  2018-07-03T09:44:57Z  impression           0   \n",
       "\n",
       "   conversion_value         channel  \n",
       "0               0.0       Instagram  \n",
       "1               0.0  Online Display  \n",
       "2               0.0  Online Display  \n",
       "3               0.0  Online Display  \n",
       "4               0.0     Paid Search  "
      ]
     },
     "execution_count": 7,
     "metadata": {},
     "output_type": "execute_result"
    }
   ],
   "source": [
    "df = pd.read_csv(\"attribution_data.csv\")\n",
    "df.head()"
   ]
  },
  {
   "cell_type": "code",
   "execution_count": 9,
   "id": "1eff6ea5-feb4-42f8-8fef-16c111e347e1",
   "metadata": {},
   "outputs": [],
   "source": [
    "def time_decay_attribution(df, conv_col, channel_col, user_id, time_col, decay_rate=0.5):\n",
    "    \"\"\"\n",
    "    Time Decay Attribution Model\n",
    "    \"\"\"\n",
    "    # Step 1: Filter data for converted users\n",
    "    converted_users = df[df[conv_col] == 1][user_id].unique()\n",
    "    df_conv = df[df[user_id].isin(converted_users)].copy()\n",
    "\n",
    "    # Step 2: Sort touchpoints by user and time\n",
    "    df_conv['time'] = pd.to_datetime(df_conv[time_col])\n",
    "    df_conv = df_conv.sort_values(by=[user_id, 'time'])\n",
    "\n",
    "    # Step 3: Calculate the number of touchpoints and their relative time to the conversion event\n",
    "    df_conv['conversion_time'] = df_conv.groupby(user_id)['time'].transform('max')\n",
    "    df_conv['time_diff'] = (df_conv['conversion_time'] - df_conv['time']).dt.total_seconds()\n",
    "\n",
    "    # Step 4: Calculate the decay weight for each touchpoint\n",
    "    def calculate_decay_weight(time_diff, decay_rate):\n",
    "        return np.exp(-decay_rate * time_diff)\n",
    "\n",
    "    # Apply the decay function\n",
    "    df_conv['decay_weight'] = df_conv['time_diff'].apply(lambda x: calculate_decay_weight(x, decay_rate))\n",
    "\n",
    "    # Step 5: Normalize the weights so that the sum of all weights is 100%\n",
    "    total_weight = df_conv.groupby(user_id)['decay_weight'].transform('sum')\n",
    "    df_conv['normalized_weight'] = round(df_conv['decay_weight'] / total_weight * 100, 2)\n",
    "\n",
    "    # Step 6: Aggregate the results by channel\n",
    "    channel_weights = df_conv.groupby(channel_col)['normalized_weight'].sum().reset_index()\n",
    "\n",
    "    # Step 7: Sort channels by their total weight in descending order\n",
    "    channel_weights = channel_weights.sort_values(by='normalized_weight', ascending=False).reset_index(drop=True)\n",
    "    \n",
    "    return channel_weights"
   ]
  },
  {
   "cell_type": "code",
   "execution_count": 15,
   "id": "5136c174-a956-4c81-a6fb-adc57166ee77",
   "metadata": {},
   "outputs": [
    {
     "data": {
      "text/html": [
       "<div>\n",
       "<style scoped>\n",
       "    .dataframe tbody tr th:only-of-type {\n",
       "        vertical-align: middle;\n",
       "    }\n",
       "\n",
       "    .dataframe tbody tr th {\n",
       "        vertical-align: top;\n",
       "    }\n",
       "\n",
       "    .dataframe thead th {\n",
       "        text-align: right;\n",
       "    }\n",
       "</style>\n",
       "<table border=\"1\" class=\"dataframe\">\n",
       "  <thead>\n",
       "    <tr style=\"text-align: right;\">\n",
       "      <th></th>\n",
       "      <th>normalized_weight</th>\n",
       "      <th>Weight (%)</th>\n",
       "    </tr>\n",
       "    <tr>\n",
       "      <th>channel</th>\n",
       "      <th></th>\n",
       "      <th></th>\n",
       "    </tr>\n",
       "  </thead>\n",
       "  <tbody>\n",
       "    <tr>\n",
       "      <th>Facebook</th>\n",
       "      <td>529643.04</td>\n",
       "      <td>30.03</td>\n",
       "    </tr>\n",
       "    <tr>\n",
       "      <th>Paid Search</th>\n",
       "      <td>454985.36</td>\n",
       "      <td>25.79</td>\n",
       "    </tr>\n",
       "    <tr>\n",
       "      <th>Online Video</th>\n",
       "      <td>340805.61</td>\n",
       "      <td>19.32</td>\n",
       "    </tr>\n",
       "    <tr>\n",
       "      <th>Instagram</th>\n",
       "      <td>224649.40</td>\n",
       "      <td>12.74</td>\n",
       "    </tr>\n",
       "    <tr>\n",
       "      <th>Online Display</th>\n",
       "      <td>213816.54</td>\n",
       "      <td>12.12</td>\n",
       "    </tr>\n",
       "  </tbody>\n",
       "</table>\n",
       "</div>"
      ],
      "text/plain": [
       "                normalized_weight  Weight (%)\n",
       "channel                                      \n",
       "Facebook                529643.04       30.03\n",
       "Paid Search             454985.36       25.79\n",
       "Online Video            340805.61       19.32\n",
       "Instagram               224649.40       12.74\n",
       "Online Display          213816.54       12.12"
      ]
     },
     "execution_count": 15,
     "metadata": {},
     "output_type": "execute_result"
    }
   ],
   "source": [
    "# Run the Time Decay Attribution Model\n",
    "decay_result = time_decay_attribution(df, 'conversion', 'channel', 'cookie', 'time', decay_rate=0.1)\n",
    "# Convert weights to percentages\n",
    "decay_result['Weight (%)'] = round((decay_result['normalized_weight'] / decay_result['normalized_weight'].sum()) * 100, 2)\n",
    "decay_result.set_index('channel')"
   ]
  },
  {
   "cell_type": "code",
   "execution_count": 18,
   "id": "bb4b07e9-7158-4e0b-9406-057edcd20eca",
   "metadata": {},
   "outputs": [
    {
     "data": {
      "image/png": "[encoded data removed]",
      "text/plain": [
       "<Figure size 1000x600 with 1 Axes>"
      ]
     },
     "metadata": {},
     "output_type": "display_data"
    }
   ],
   "source": [
    "plt.subplots(figsize=(10, 6))\n",
    "sns.barplot(data=decay_result, x=decay_result.index, y=\"Weight (%)\")\n",
    "plt.xlabel(\"Channel\")\n",
    "plt.title(\"Time Decay Attribution Model\",fontsize=20)\n",
    "plt.savefig('plot/time_decay_model.png')"
   ]
  },
  {
   "cell_type": "code",
   "execution_count": null,
   "id": "183a0e29-c682-4a08-ac19-bec58220625c",
   "metadata": {},
   "outputs": [],
   "source": []
  }
 ],
 "metadata": {
  "kernelspec": {
   "display_name": "Python 3 (ipykernel)",
   "language": "python",
   "name": "python3"
  },
  "language_info": {
   "codemirror_mode": {
    "name": "ipython",
    "version": 3
   },
   "file_extension": ".py",
   "mimetype": "text/x-python",
   "name": "python",
   "nbconvert_exporter": "python",
   "pygments_lexer": "ipython3",
   "version": "3.11.7"
  }
 },
 "nbformat": 4,
 "nbformat_minor": 5
}
