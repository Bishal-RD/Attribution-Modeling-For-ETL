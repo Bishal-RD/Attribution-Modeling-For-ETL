{
 "cells": [
  {
   "cell_type": "code",
   "execution_count": 28,
   "id": "1abee65a-a852-45b0-86ec-045281f8cd9c",
   "metadata": {},
   "outputs": [],
   "source": [
    "import pandas as pd\n",
    "import matplotlib.pyplot as plt\n",
    "import seaborn as sns\n",
    "from collections import Counter\n",
    "\n",
    "%matplotlib inline"
   ]
  },
  {
   "cell_type": "code",
   "execution_count": 29,
   "id": "1a67630a-a662-4f46-91c6-6c6ad270b803",
   "metadata": {},
   "outputs": [
    {
     "data": {
      "text/html": [
       "<div>\n",
       "<style scoped>\n",
       "    .dataframe tbody tr th:only-of-type {\n",
       "        vertical-align: middle;\n",
       "    }\n",
       "\n",
       "    .dataframe tbody tr th {\n",
       "        vertical-align: top;\n",
       "    }\n",
       "\n",
       "    .dataframe thead th {\n",
       "        text-align: right;\n",
       "    }\n",
       "</style>\n",
       "<table border=\"1\" class=\"dataframe\">\n",
       "  <thead>\n",
       "    <tr style=\"text-align: right;\">\n",
       "      <th></th>\n",
       "      <th>cookie</th>\n",
       "      <th>time</th>\n",
       "      <th>interaction</th>\n",
       "      <th>conversion</th>\n",
       "      <th>conversion_value</th>\n",
       "      <th>channel</th>\n",
       "    </tr>\n",
       "  </thead>\n",
       "  <tbody>\n",
       "    <tr>\n",
       "      <th>0</th>\n",
       "      <td>00000FkCnDfDDf0iC97iC703B</td>\n",
       "      <td>2018-07-03T13:02:11Z</td>\n",
       "      <td>impression</td>\n",
       "      <td>0</td>\n",
       "      <td>0.0</td>\n",
       "      <td>Instagram</td>\n",
       "    </tr>\n",
       "    <tr>\n",
       "      <th>1</th>\n",
       "      <td>00000FkCnDfDDf0iC97iC703B</td>\n",
       "      <td>2018-07-17T19:15:07Z</td>\n",
       "      <td>impression</td>\n",
       "      <td>0</td>\n",
       "      <td>0.0</td>\n",
       "      <td>Online Display</td>\n",
       "    </tr>\n",
       "    <tr>\n",
       "      <th>2</th>\n",
       "      <td>00000FkCnDfDDf0iC97iC703B</td>\n",
       "      <td>2018-07-24T15:51:46Z</td>\n",
       "      <td>impression</td>\n",
       "      <td>0</td>\n",
       "      <td>0.0</td>\n",
       "      <td>Online Display</td>\n",
       "    </tr>\n",
       "    <tr>\n",
       "      <th>3</th>\n",
       "      <td>00000FkCnDfDDf0iC97iC703B</td>\n",
       "      <td>2018-07-29T07:44:51Z</td>\n",
       "      <td>impression</td>\n",
       "      <td>0</td>\n",
       "      <td>0.0</td>\n",
       "      <td>Online Display</td>\n",
       "    </tr>\n",
       "    <tr>\n",
       "      <th>4</th>\n",
       "      <td>0000nACkD9nFkBBDECD3ki00E</td>\n",
       "      <td>2018-07-03T09:44:57Z</td>\n",
       "      <td>impression</td>\n",
       "      <td>0</td>\n",
       "      <td>0.0</td>\n",
       "      <td>Paid Search</td>\n",
       "    </tr>\n",
       "  </tbody>\n",
       "</table>\n",
       "</div>"
      ],
      "text/plain": [
       "                      cookie                  time interaction  conversion  \\\n",
       "0  00000FkCnDfDDf0iC97iC703B  2018-07-03T13:02:11Z  impression           0   \n",
       "1  00000FkCnDfDDf0iC97iC703B  2018-07-17T19:15:07Z  impression           0   \n",
       "2  00000FkCnDfDDf0iC97iC703B  2018-07-24T15:51:46Z  impression           0   \n",
       "3  00000FkCnDfDDf0iC97iC703B  2018-07-29T07:44:51Z  impression           0   \n",
       "4  0000nACkD9nFkBBDECD3ki00E  2018-07-03T09:44:57Z  impression           0   \n",
       "\n",
       "   conversion_value         channel  \n",
       "0               0.0       Instagram  \n",
       "1               0.0  Online Display  \n",
       "2               0.0  Online Display  \n",
       "3               0.0  Online Display  \n",
       "4               0.0     Paid Search  "
      ]
     },
     "execution_count": 29,
     "metadata": {},
     "output_type": "execute_result"
    }
   ],
   "source": [
    "df = pd.read_csv(\"attribution_data.csv\")\n",
    "df.head()"
   ]
  },
  {
   "cell_type": "code",
   "execution_count": 35,
   "id": "2ecfe889-11ee-4783-939d-c062c527b608",
   "metadata": {},
   "outputs": [],
   "source": [
    "def calc_attribution_linear(click_pos, total_clicks):\n",
    "    \"\"\"\n",
    "    Helper function to calculate linear attribution.\n",
    "    \"\"\"\n",
    "    return 1 / total_clicks  # Equal credit for each touchpoint\n",
    "\n",
    "def linear_model(df, conv_col, channel_col, user_id):\n",
    "    \"\"\"\n",
    "    Optimized Linear Multi-Touch Attribution Model\n",
    "    \"\"\"\n",
    "    # Step 1: Filter data for converted users\n",
    "    converted_users = df[df[conv_col] == 1][user_id].unique()\n",
    "    df_conv = df[df[user_id].isin(converted_users)].copy()\n",
    "    \n",
    "    # Step 2: Add intermediate columns\n",
    "    df_conv['clicks'] = df_conv[user_id].map(Counter(df_conv[user_id]))  # Total clicks per user\n",
    "    df_conv['click_pos'] = df_conv.groupby(user_id).cumcount() + 1       # Position in the path\n",
    "\n",
    "    # Step 3: Calculate Linear weights\n",
    "    df_conv['Linear'] = df_conv.apply(\n",
    "        lambda x: calc_attribution_linear(x['click_pos'], x['clicks']) * 100, axis=1\n",
    "    )\n",
    "\n",
    "    # Step 4: Aggregate weights by channel\n",
    "    channel_weights = df_conv.groupby(channel_col)['Linear'].mean().reset_index()\n",
    "\n",
    "    # Step 5: Normalize to percentage\n",
    "    total_weight = channel_weights['Linear'].sum()\n",
    "    channel_weights['Weight (%)'] = round((channel_weights['Linear'] / total_weight) * 100, 2)\n",
    "\n",
    "    # Step 6: Prepare the final output\n",
    "    channel_weights.drop(columns=['Linear'], inplace=True)\n",
    "    channel_weights = channel_weights.sort_values(by='Weight (%)', ascending=False)\n",
    "    channel_weights.set_index(channel_col, inplace=True)\n",
    "    \n",
    "    return channel_weights"
   ]
  },
  {
   "cell_type": "code",
   "execution_count": 36,
   "id": "55280b2b-e666-4099-893e-579edecbf137",
   "metadata": {},
   "outputs": [
    {
     "data": {
      "text/html": [
       "<div>\n",
       "<style scoped>\n",
       "    .dataframe tbody tr th:only-of-type {\n",
       "        vertical-align: middle;\n",
       "    }\n",
       "\n",
       "    .dataframe tbody tr th {\n",
       "        vertical-align: top;\n",
       "    }\n",
       "\n",
       "    .dataframe thead th {\n",
       "        text-align: right;\n",
       "    }\n",
       "</style>\n",
       "<table border=\"1\" class=\"dataframe\">\n",
       "  <thead>\n",
       "    <tr style=\"text-align: right;\">\n",
       "      <th></th>\n",
       "      <th>Weight (%)</th>\n",
       "    </tr>\n",
       "    <tr>\n",
       "      <th>channel</th>\n",
       "      <th></th>\n",
       "    </tr>\n",
       "  </thead>\n",
       "  <tbody>\n",
       "    <tr>\n",
       "      <th>Paid Search</th>\n",
       "      <td>27.63</td>\n",
       "    </tr>\n",
       "    <tr>\n",
       "      <th>Online Display</th>\n",
       "      <td>26.43</td>\n",
       "    </tr>\n",
       "    <tr>\n",
       "      <th>Instagram</th>\n",
       "      <td>16.56</td>\n",
       "    </tr>\n",
       "    <tr>\n",
       "      <th>Facebook</th>\n",
       "      <td>16.28</td>\n",
       "    </tr>\n",
       "    <tr>\n",
       "      <th>Online Video</th>\n",
       "      <td>13.11</td>\n",
       "    </tr>\n",
       "  </tbody>\n",
       "</table>\n",
       "</div>"
      ],
      "text/plain": [
       "                Weight (%)\n",
       "channel                   \n",
       "Paid Search          27.63\n",
       "Online Display       26.43\n",
       "Instagram            16.56\n",
       "Facebook             16.28\n",
       "Online Video         13.11"
      ]
     },
     "execution_count": 36,
     "metadata": {},
     "output_type": "execute_result"
    }
   ],
   "source": [
    "linear_model = linear_model(df, 'conversion', 'channel', 'cookie')\n",
    "linear_model"
   ]
  },
  {
   "cell_type": "code",
   "execution_count": 39,
   "id": "fa6d4737-fe46-428f-94ae-6d2fd471c2f9",
   "metadata": {},
   "outputs": [
    {
     "data": {
      "image/png": "[encoded data removed]",
      "text/plain": [
       "<Figure size 1000x600 with 1 Axes>"
      ]
     },
     "metadata": {},
     "output_type": "display_data"
    }
   ],
   "source": [
    "plt.subplots(figsize=(10, 6))\n",
    "sns.barplot(data=linear_model, x=linear_model.index, y=\"Weight (%)\")\n",
    "plt.xlabel(\"Channel\")\n",
    "plt.title(\"Linear Attribution Model\",fontsize=20)\n",
    "plt.savefig('plot/linear_model.png')"
   ]
  },
  {
   "cell_type": "code",
   "execution_count": null,
   "id": "348747a5-b21f-4b3a-9335-d2c5634f4748",
   "metadata": {},
   "outputs": [],
   "source": []
  }
 ],
 "metadata": {
  "kernelspec": {
   "display_name": "Python 3 (ipykernel)",
   "language": "python",
   "name": "python3"
  },
  "language_info": {
   "codemirror_mode": {
    "name": "ipython",
    "version": 3
   },
   "file_extension": ".py",
   "mimetype": "text/x-python",
   "name": "python",
   "nbconvert_exporter": "python",
   "pygments_lexer": "ipython3",
   "version": "3.11.7"
  }
 },
 "nbformat": 4,
 "nbformat_minor": 5
}
