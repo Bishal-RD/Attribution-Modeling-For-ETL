{
 "cells": [
  {
   "cell_type": "code",
   "execution_count": 1,
   "id": "f24001f1-504c-417f-bb52-1acc2f435a79",
   "metadata": {},
   "outputs": [],
   "source": [
    "import pandas as pd\n",
    "import matplotlib.pyplot as plt\n",
    "import seaborn as sns\n",
    "\n",
    "%matplotlib inline"
   ]
  },
  {
   "cell_type": "code",
   "execution_count": 2,
   "id": "cf038059-b504-4b52-9179-1f7203dc5494",
   "metadata": {},
   "outputs": [
    {
     "data": {
      "text/plain": [
       "3520422"
      ]
     },
     "execution_count": 2,
     "metadata": {},
     "output_type": "execute_result"
    }
   ],
   "source": [
    "df = pd.read_csv('attribution_data.csv')\n",
    "df.size"
   ]
  },
  {
   "cell_type": "code",
   "execution_count": 3,
   "id": "5c75a8a7-87f9-4f4c-a75b-cdf66b23e125",
   "metadata": {},
   "outputs": [
    {
     "data": {
      "text/html": [
       "<div>\n",
       "<style scoped>\n",
       "    .dataframe tbody tr th:only-of-type {\n",
       "        vertical-align: middle;\n",
       "    }\n",
       "\n",
       "    .dataframe tbody tr th {\n",
       "        vertical-align: top;\n",
       "    }\n",
       "\n",
       "    .dataframe thead th {\n",
       "        text-align: right;\n",
       "    }\n",
       "</style>\n",
       "<table border=\"1\" class=\"dataframe\">\n",
       "  <thead>\n",
       "    <tr style=\"text-align: right;\">\n",
       "      <th></th>\n",
       "      <th>cookie</th>\n",
       "      <th>time</th>\n",
       "      <th>interaction</th>\n",
       "      <th>conversion</th>\n",
       "      <th>conversion_value</th>\n",
       "      <th>channel</th>\n",
       "    </tr>\n",
       "  </thead>\n",
       "  <tbody>\n",
       "    <tr>\n",
       "      <th>0</th>\n",
       "      <td>00000FkCnDfDDf0iC97iC703B</td>\n",
       "      <td>2018-07-03T13:02:11Z</td>\n",
       "      <td>impression</td>\n",
       "      <td>0</td>\n",
       "      <td>0.0</td>\n",
       "      <td>Instagram</td>\n",
       "    </tr>\n",
       "    <tr>\n",
       "      <th>1</th>\n",
       "      <td>00000FkCnDfDDf0iC97iC703B</td>\n",
       "      <td>2018-07-17T19:15:07Z</td>\n",
       "      <td>impression</td>\n",
       "      <td>0</td>\n",
       "      <td>0.0</td>\n",
       "      <td>Online Display</td>\n",
       "    </tr>\n",
       "    <tr>\n",
       "      <th>2</th>\n",
       "      <td>00000FkCnDfDDf0iC97iC703B</td>\n",
       "      <td>2018-07-24T15:51:46Z</td>\n",
       "      <td>impression</td>\n",
       "      <td>0</td>\n",
       "      <td>0.0</td>\n",
       "      <td>Online Display</td>\n",
       "    </tr>\n",
       "    <tr>\n",
       "      <th>3</th>\n",
       "      <td>00000FkCnDfDDf0iC97iC703B</td>\n",
       "      <td>2018-07-29T07:44:51Z</td>\n",
       "      <td>impression</td>\n",
       "      <td>0</td>\n",
       "      <td>0.0</td>\n",
       "      <td>Online Display</td>\n",
       "    </tr>\n",
       "    <tr>\n",
       "      <th>4</th>\n",
       "      <td>0000nACkD9nFkBBDECD3ki00E</td>\n",
       "      <td>2018-07-03T09:44:57Z</td>\n",
       "      <td>impression</td>\n",
       "      <td>0</td>\n",
       "      <td>0.0</td>\n",
       "      <td>Paid Search</td>\n",
       "    </tr>\n",
       "  </tbody>\n",
       "</table>\n",
       "</div>"
      ],
      "text/plain": [
       "                      cookie                  time interaction  conversion  \\\n",
       "0  00000FkCnDfDDf0iC97iC703B  2018-07-03T13:02:11Z  impression           0   \n",
       "1  00000FkCnDfDDf0iC97iC703B  2018-07-17T19:15:07Z  impression           0   \n",
       "2  00000FkCnDfDDf0iC97iC703B  2018-07-24T15:51:46Z  impression           0   \n",
       "3  00000FkCnDfDDf0iC97iC703B  2018-07-29T07:44:51Z  impression           0   \n",
       "4  0000nACkD9nFkBBDECD3ki00E  2018-07-03T09:44:57Z  impression           0   \n",
       "\n",
       "   conversion_value         channel  \n",
       "0               0.0       Instagram  \n",
       "1               0.0  Online Display  \n",
       "2               0.0  Online Display  \n",
       "3               0.0  Online Display  \n",
       "4               0.0     Paid Search  "
      ]
     },
     "execution_count": 3,
     "metadata": {},
     "output_type": "execute_result"
    }
   ],
   "source": [
    "df.head()"
   ]
  },
  {
   "cell_type": "code",
   "execution_count": 4,
   "id": "cccb476e-dae5-43f1-9080-3195e5a3d437",
   "metadata": {},
   "outputs": [
    {
     "data": {
      "text/plain": [
       "cookie               object\n",
       "time                 object\n",
       "interaction          object\n",
       "conversion            int64\n",
       "conversion_value    float64\n",
       "channel              object\n",
       "dtype: object"
      ]
     },
     "execution_count": 4,
     "metadata": {},
     "output_type": "execute_result"
    }
   ],
   "source": [
    "df.dtypes"
   ]
  },
  {
   "cell_type": "code",
   "execution_count": 5,
   "id": "13496fe8-e03c-4c23-9d23-2f58f5254583",
   "metadata": {},
   "outputs": [
    {
     "data": {
      "text/html": [
       "<div>\n",
       "<style scoped>\n",
       "    .dataframe tbody tr th:only-of-type {\n",
       "        vertical-align: middle;\n",
       "    }\n",
       "\n",
       "    .dataframe tbody tr th {\n",
       "        vertical-align: top;\n",
       "    }\n",
       "\n",
       "    .dataframe thead th {\n",
       "        text-align: right;\n",
       "    }\n",
       "</style>\n",
       "<table border=\"1\" class=\"dataframe\">\n",
       "  <thead>\n",
       "    <tr style=\"text-align: right;\">\n",
       "      <th></th>\n",
       "      <th>cookie</th>\n",
       "      <th>time</th>\n",
       "      <th>interaction</th>\n",
       "      <th>conversion</th>\n",
       "      <th>conversion_value</th>\n",
       "      <th>channel</th>\n",
       "    </tr>\n",
       "  </thead>\n",
       "  <tbody>\n",
       "    <tr>\n",
       "      <th>22</th>\n",
       "      <td>0007oEBhnoF97AoEE3BCkFnhB</td>\n",
       "      <td>2018-07-06T13:45:29Z</td>\n",
       "      <td>conversion</td>\n",
       "      <td>1</td>\n",
       "      <td>6.5</td>\n",
       "      <td>Paid Search</td>\n",
       "    </tr>\n",
       "    <tr>\n",
       "      <th>23</th>\n",
       "      <td>00090n9EBBEkA000C7Cik999D</td>\n",
       "      <td>2018-07-05T06:53:53Z</td>\n",
       "      <td>conversion</td>\n",
       "      <td>1</td>\n",
       "      <td>8.0</td>\n",
       "      <td>Facebook</td>\n",
       "    </tr>\n",
       "    <tr>\n",
       "      <th>83</th>\n",
       "      <td>000h3n9nC0hFhE3CCnkkAof7n</td>\n",
       "      <td>2018-07-19T14:31:57Z</td>\n",
       "      <td>conversion</td>\n",
       "      <td>1</td>\n",
       "      <td>6.0</td>\n",
       "      <td>Facebook</td>\n",
       "    </tr>\n",
       "    <tr>\n",
       "      <th>109</th>\n",
       "      <td>000hCBnCB7oi7ADAEnEBCnBEE</td>\n",
       "      <td>2018-07-25T11:15:16Z</td>\n",
       "      <td>conversion</td>\n",
       "      <td>1</td>\n",
       "      <td>6.5</td>\n",
       "      <td>Online Video</td>\n",
       "    </tr>\n",
       "    <tr>\n",
       "      <th>124</th>\n",
       "      <td>000kiDB3D0fCfDAohCDB3ohko</td>\n",
       "      <td>2018-07-26T16:16:21Z</td>\n",
       "      <td>conversion</td>\n",
       "      <td>1</td>\n",
       "      <td>7.5</td>\n",
       "      <td>Facebook</td>\n",
       "    </tr>\n",
       "  </tbody>\n",
       "</table>\n",
       "</div>"
      ],
      "text/plain": [
       "                        cookie                  time interaction  conversion  \\\n",
       "22   0007oEBhnoF97AoEE3BCkFnhB  2018-07-06T13:45:29Z  conversion           1   \n",
       "23   00090n9EBBEkA000C7Cik999D  2018-07-05T06:53:53Z  conversion           1   \n",
       "83   000h3n9nC0hFhE3CCnkkAof7n  2018-07-19T14:31:57Z  conversion           1   \n",
       "109  000hCBnCB7oi7ADAEnEBCnBEE  2018-07-25T11:15:16Z  conversion           1   \n",
       "124  000kiDB3D0fCfDAohCDB3ohko  2018-07-26T16:16:21Z  conversion           1   \n",
       "\n",
       "     conversion_value       channel  \n",
       "22                6.5   Paid Search  \n",
       "23                8.0      Facebook  \n",
       "83                6.0      Facebook  \n",
       "109               6.5  Online Video  \n",
       "124               7.5      Facebook  "
      ]
     },
     "execution_count": 5,
     "metadata": {},
     "output_type": "execute_result"
    }
   ],
   "source": [
    "df_filterd_convert = df[df['conversion'] == 1]\n",
    "df_filterd_convert.head()"
   ]
  },
  {
   "cell_type": "code",
   "execution_count": 9,
   "id": "57d91a00-7778-450e-9d7f-e7d25d72cb5f",
   "metadata": {},
   "outputs": [],
   "source": [
    "cookie_index = list(df_filterd_convert[\"cookie\"])"
   ]
  },
  {
   "cell_type": "code",
   "execution_count": 12,
   "id": "8bb6bdf7-2ee2-441b-963e-b8c8f1f844ef",
   "metadata": {},
   "outputs": [
    {
     "data": {
      "text/html": [
       "<div>\n",
       "<style scoped>\n",
       "    .dataframe tbody tr th:only-of-type {\n",
       "        vertical-align: middle;\n",
       "    }\n",
       "\n",
       "    .dataframe tbody tr th {\n",
       "        vertical-align: top;\n",
       "    }\n",
       "\n",
       "    .dataframe thead th {\n",
       "        text-align: right;\n",
       "    }\n",
       "</style>\n",
       "<table border=\"1\" class=\"dataframe\">\n",
       "  <thead>\n",
       "    <tr style=\"text-align: right;\">\n",
       "      <th></th>\n",
       "      <th>time</th>\n",
       "      <th>interaction</th>\n",
       "      <th>conversion</th>\n",
       "      <th>conversion_value</th>\n",
       "      <th>channel</th>\n",
       "    </tr>\n",
       "    <tr>\n",
       "      <th>cookie</th>\n",
       "      <th></th>\n",
       "      <th></th>\n",
       "      <th></th>\n",
       "      <th></th>\n",
       "      <th></th>\n",
       "    </tr>\n",
       "  </thead>\n",
       "  <tbody>\n",
       "    <tr>\n",
       "      <th>0007oEBhnoF97AoEE3BCkFnhB</th>\n",
       "      <td>2018-07-06T13:45:29Z</td>\n",
       "      <td>conversion</td>\n",
       "      <td>1</td>\n",
       "      <td>6.5</td>\n",
       "      <td>Paid Search</td>\n",
       "    </tr>\n",
       "    <tr>\n",
       "      <th>00090n9EBBEkA000C7Cik999D</th>\n",
       "      <td>2018-07-05T06:53:53Z</td>\n",
       "      <td>conversion</td>\n",
       "      <td>1</td>\n",
       "      <td>8.0</td>\n",
       "      <td>Facebook</td>\n",
       "    </tr>\n",
       "    <tr>\n",
       "      <th>000h3n9nC0hFhE3CCnkkAof7n</th>\n",
       "      <td>2018-07-19T14:31:57Z</td>\n",
       "      <td>conversion</td>\n",
       "      <td>1</td>\n",
       "      <td>6.0</td>\n",
       "      <td>Facebook</td>\n",
       "    </tr>\n",
       "    <tr>\n",
       "      <th>000hCBnCB7oi7ADAEnEBCnBEE</th>\n",
       "      <td>2018-07-07T14:34:54Z</td>\n",
       "      <td>impression</td>\n",
       "      <td>0</td>\n",
       "      <td>0.0</td>\n",
       "      <td>Online Video</td>\n",
       "    </tr>\n",
       "    <tr>\n",
       "      <th>000hCBnCB7oi7ADAEnEBCnBEE</th>\n",
       "      <td>2018-07-07T14:34:54Z</td>\n",
       "      <td>impression</td>\n",
       "      <td>0</td>\n",
       "      <td>0.0</td>\n",
       "      <td>Online Video</td>\n",
       "    </tr>\n",
       "  </tbody>\n",
       "</table>\n",
       "</div>"
      ],
      "text/plain": [
       "                                           time interaction  conversion  \\\n",
       "cookie                                                                    \n",
       "0007oEBhnoF97AoEE3BCkFnhB  2018-07-06T13:45:29Z  conversion           1   \n",
       "00090n9EBBEkA000C7Cik999D  2018-07-05T06:53:53Z  conversion           1   \n",
       "000h3n9nC0hFhE3CCnkkAof7n  2018-07-19T14:31:57Z  conversion           1   \n",
       "000hCBnCB7oi7ADAEnEBCnBEE  2018-07-07T14:34:54Z  impression           0   \n",
       "000hCBnCB7oi7ADAEnEBCnBEE  2018-07-07T14:34:54Z  impression           0   \n",
       "\n",
       "                           conversion_value       channel  \n",
       "cookie                                                     \n",
       "0007oEBhnoF97AoEE3BCkFnhB               6.5   Paid Search  \n",
       "00090n9EBBEkA000C7Cik999D               8.0      Facebook  \n",
       "000h3n9nC0hFhE3CCnkkAof7n               6.0      Facebook  \n",
       "000hCBnCB7oi7ADAEnEBCnBEE               0.0  Online Video  \n",
       "000hCBnCB7oi7ADAEnEBCnBEE               0.0  Online Video  "
      ]
     },
     "execution_count": 12,
     "metadata": {},
     "output_type": "execute_result"
    }
   ],
   "source": [
    "grouped_df = pd.DataFrame(df.groupby(\"cookie\").first())\n",
    "filter_df = grouped_df.loc[cookie_index]\n",
    "filter_df.head()"
   ]
  },
  {
   "cell_type": "code",
   "execution_count": 13,
   "id": "34424295-9a5b-44cc-8111-a4c9473dc586",
   "metadata": {},
   "outputs": [
    {
     "data": {
      "text/html": [
       "<div>\n",
       "<style scoped>\n",
       "    .dataframe tbody tr th:only-of-type {\n",
       "        vertical-align: middle;\n",
       "    }\n",
       "\n",
       "    .dataframe tbody tr th {\n",
       "        vertical-align: top;\n",
       "    }\n",
       "\n",
       "    .dataframe thead th {\n",
       "        text-align: right;\n",
       "    }\n",
       "</style>\n",
       "<table border=\"1\" class=\"dataframe\">\n",
       "  <thead>\n",
       "    <tr style=\"text-align: right;\">\n",
       "      <th></th>\n",
       "      <th>Weight (%)</th>\n",
       "    </tr>\n",
       "    <tr>\n",
       "      <th>channel</th>\n",
       "      <th></th>\n",
       "    </tr>\n",
       "  </thead>\n",
       "  <tbody>\n",
       "    <tr>\n",
       "      <th>Facebook</th>\n",
       "      <td>32.59</td>\n",
       "    </tr>\n",
       "    <tr>\n",
       "      <th>Online Video</th>\n",
       "      <td>25.20</td>\n",
       "    </tr>\n",
       "    <tr>\n",
       "      <th>Paid Search</th>\n",
       "      <td>18.47</td>\n",
       "    </tr>\n",
       "    <tr>\n",
       "      <th>Instagram</th>\n",
       "      <td>14.78</td>\n",
       "    </tr>\n",
       "    <tr>\n",
       "      <th>Online Display</th>\n",
       "      <td>8.95</td>\n",
       "    </tr>\n",
       "  </tbody>\n",
       "</table>\n",
       "</div>"
      ],
      "text/plain": [
       "                Weight (%)\n",
       "channel                   \n",
       "Facebook             32.59\n",
       "Online Video         25.20\n",
       "Paid Search          18.47\n",
       "Instagram            14.78\n",
       "Online Display        8.95"
      ]
     },
     "execution_count": 13,
     "metadata": {},
     "output_type": "execute_result"
    }
   ],
   "source": [
    "first_touch = pd.DataFrame(round(filter_df[\"channel\"].value_counts(normalize=True) * 100, 2))\n",
    "first_touch.columns = [\"Weight (%)\"]\n",
    "first_touch"
   ]
  },
  {
   "cell_type": "code",
   "execution_count": 18,
   "id": "4d6fd01d-96f4-4a7a-8405-31d8369aaa2d",
   "metadata": {},
   "outputs": [
    {
     "data": {
      "image/png": "[encoded data removed]",
      "text/plain": [
       "<Figure size 1000x600 with 1 Axes>"
      ]
     },
     "metadata": {},
     "output_type": "display_data"
    }
   ],
   "source": [
    "plt.subplots(figsize=(10, 6))\n",
    "sns.barplot(data=first_touch, x=first_touch.index, y=\"Weight (%)\")\n",
    "plt.xlabel(\"Channel\")\n",
    "plt.title(\"First Touch Attribution Model\", fontsize=20)\n",
    "plt.savefig('plot/first_touch.png')"
   ]
  },
  {
   "cell_type": "code",
   "execution_count": null,
   "id": "df0b39c5-416b-4877-86d1-4970788db0ba",
   "metadata": {},
   "outputs": [],
   "source": []
  }
 ],
 "metadata": {
  "kernelspec": {
   "display_name": "Python 3 (ipykernel)",
   "language": "python",
   "name": "python3"
  },
  "language_info": {
   "codemirror_mode": {
    "name": "ipython",
    "version": 3
   },
   "file_extension": ".py",
   "mimetype": "text/x-python",
   "name": "python",
   "nbconvert_exporter": "python",
   "pygments_lexer": "ipython3",
   "version": "3.11.7"
  }
 },
 "nbformat": 4,
 "nbformat_minor": 5
}
