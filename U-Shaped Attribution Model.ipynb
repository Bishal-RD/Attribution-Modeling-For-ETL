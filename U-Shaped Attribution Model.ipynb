{
 "cells": [
  {
   "cell_type": "code",
   "execution_count": 1,
   "id": "77e839c2-e504-4e13-83ee-8b2f46db71b1",
   "metadata": {},
   "outputs": [],
   "source": [
    "import pandas as pd\n",
    "import matplotlib.pyplot as plt\n",
    "import seaborn as sns\n",
    "from collections import Counter\n",
    "\n",
    "%matplotlib inline"
   ]
  },
  {
   "cell_type": "code",
   "execution_count": 2,
   "id": "4d233f0b-c382-4303-9433-fb68b3b59d0f",
   "metadata": {},
   "outputs": [
    {
     "data": {
      "text/html": [
       "<div>\n",
       "<style scoped>\n",
       "    .dataframe tbody tr th:only-of-type {\n",
       "        vertical-align: middle;\n",
       "    }\n",
       "\n",
       "    .dataframe tbody tr th {\n",
       "        vertical-align: top;\n",
       "    }\n",
       "\n",
       "    .dataframe thead th {\n",
       "        text-align: right;\n",
       "    }\n",
       "</style>\n",
       "<table border=\"1\" class=\"dataframe\">\n",
       "  <thead>\n",
       "    <tr style=\"text-align: right;\">\n",
       "      <th></th>\n",
       "      <th>cookie</th>\n",
       "      <th>time</th>\n",
       "      <th>interaction</th>\n",
       "      <th>conversion</th>\n",
       "      <th>conversion_value</th>\n",
       "      <th>channel</th>\n",
       "    </tr>\n",
       "  </thead>\n",
       "  <tbody>\n",
       "    <tr>\n",
       "      <th>0</th>\n",
       "      <td>00000FkCnDfDDf0iC97iC703B</td>\n",
       "      <td>2018-07-03T13:02:11Z</td>\n",
       "      <td>impression</td>\n",
       "      <td>0</td>\n",
       "      <td>0.0</td>\n",
       "      <td>Instagram</td>\n",
       "    </tr>\n",
       "    <tr>\n",
       "      <th>1</th>\n",
       "      <td>00000FkCnDfDDf0iC97iC703B</td>\n",
       "      <td>2018-07-17T19:15:07Z</td>\n",
       "      <td>impression</td>\n",
       "      <td>0</td>\n",
       "      <td>0.0</td>\n",
       "      <td>Online Display</td>\n",
       "    </tr>\n",
       "    <tr>\n",
       "      <th>2</th>\n",
       "      <td>00000FkCnDfDDf0iC97iC703B</td>\n",
       "      <td>2018-07-24T15:51:46Z</td>\n",
       "      <td>impression</td>\n",
       "      <td>0</td>\n",
       "      <td>0.0</td>\n",
       "      <td>Online Display</td>\n",
       "    </tr>\n",
       "    <tr>\n",
       "      <th>3</th>\n",
       "      <td>00000FkCnDfDDf0iC97iC703B</td>\n",
       "      <td>2018-07-29T07:44:51Z</td>\n",
       "      <td>impression</td>\n",
       "      <td>0</td>\n",
       "      <td>0.0</td>\n",
       "      <td>Online Display</td>\n",
       "    </tr>\n",
       "    <tr>\n",
       "      <th>4</th>\n",
       "      <td>0000nACkD9nFkBBDECD3ki00E</td>\n",
       "      <td>2018-07-03T09:44:57Z</td>\n",
       "      <td>impression</td>\n",
       "      <td>0</td>\n",
       "      <td>0.0</td>\n",
       "      <td>Paid Search</td>\n",
       "    </tr>\n",
       "  </tbody>\n",
       "</table>\n",
       "</div>"
      ],
      "text/plain": [
       "                      cookie                  time interaction  conversion  \\\n",
       "0  00000FkCnDfDDf0iC97iC703B  2018-07-03T13:02:11Z  impression           0   \n",
       "1  00000FkCnDfDDf0iC97iC703B  2018-07-17T19:15:07Z  impression           0   \n",
       "2  00000FkCnDfDDf0iC97iC703B  2018-07-24T15:51:46Z  impression           0   \n",
       "3  00000FkCnDfDDf0iC97iC703B  2018-07-29T07:44:51Z  impression           0   \n",
       "4  0000nACkD9nFkBBDECD3ki00E  2018-07-03T09:44:57Z  impression           0   \n",
       "\n",
       "   conversion_value         channel  \n",
       "0               0.0       Instagram  \n",
       "1               0.0  Online Display  \n",
       "2               0.0  Online Display  \n",
       "3               0.0  Online Display  \n",
       "4               0.0     Paid Search  "
      ]
     },
     "execution_count": 2,
     "metadata": {},
     "output_type": "execute_result"
    }
   ],
   "source": [
    "df = pd.read_csv(\"attribution_data.csv\")\n",
    "df.head()"
   ]
  },
  {
   "cell_type": "code",
   "execution_count": 6,
   "id": "a2402fc8-9d4e-4b3e-855a-b42b81ee8b91",
   "metadata": {},
   "outputs": [],
   "source": [
    "def calc_attribution_u_optimized(click_pos, total_clicks):\n",
    "    \"\"\"\n",
    "    Helper function to calculate U-shaped attributions.\n",
    "    \"\"\"\n",
    "    if total_clicks == 1:\n",
    "        return 1.0  # 100% credit for single touchpoint\n",
    "    elif total_clicks == 2:\n",
    "        return 0.5  # 50% credit for each of two touchpoints\n",
    "    else:\n",
    "        if click_pos == 1 or click_pos == total_clicks:  # First or Last touchpoint\n",
    "            return 0.4  # 40% credit for first and last\n",
    "        else:\n",
    "            return 0.2 / (total_clicks - 2)  # Equal share of 20% for middle touchpoints\n",
    "\n",
    "\n",
    "def U_shaped_model_optimized(df, conv_col, channel_col, user_id):\n",
    "    \"\"\"\n",
    "    Optimized U-Shaped Multi-Touch Attribution Model\n",
    "    \"\"\"\n",
    "    # Step 1: Filter data for converted users\n",
    "    converted_users = df[df[conv_col] == 1][user_id].unique()\n",
    "    df_conv = df[df[user_id].isin(converted_users)].copy()\n",
    "    \n",
    "    # Step 2: Add intermediate columns\n",
    "    df_conv['clicks'] = df_conv[user_id].map(Counter(df_conv[user_id]))  # Total clicks per user\n",
    "    df_conv['click_pos'] = df_conv.groupby(user_id).cumcount() + 1       # Position in the path\n",
    "\n",
    "    # Step 3: Calculate U-shaped weights\n",
    "    df_conv['U_shape'] = df_conv.apply(\n",
    "        lambda x: calc_attribution_u_optimized(x['click_pos'], x['clicks']) * 100, axis=1\n",
    "    )\n",
    "\n",
    "    # Step 4: Aggregate weights by channel\n",
    "    channel_weights = df_conv.groupby(channel_col)['U_shape'].mean().reset_index()\n",
    "\n",
    "    # Step 5: Normalize to percentage\n",
    "    total_weight = channel_weights['U_shape'].sum()\n",
    "    channel_weights['Weight (%)'] = round((channel_weights['U_shape'] / total_weight) * 100, 2)\n",
    "\n",
    "    # Step 6: Prepare the final output\n",
    "    channel_weights.drop(columns=['U_shape'], inplace=True)\n",
    "    channel_weights = channel_weights.sort_values(by='Weight (%)', ascending=False)\n",
    "    channel_weights.set_index(channel_col, inplace=True)\n",
    "    \n",
    "    return channel_weights"
   ]
  },
  {
   "cell_type": "code",
   "execution_count": 7,
   "id": "0dadc94f-cf21-49ac-8644-407cd98f163b",
   "metadata": {},
   "outputs": [
    {
     "data": {
      "text/html": [
       "<div>\n",
       "<style scoped>\n",
       "    .dataframe tbody tr th:only-of-type {\n",
       "        vertical-align: middle;\n",
       "    }\n",
       "\n",
       "    .dataframe tbody tr th {\n",
       "        vertical-align: top;\n",
       "    }\n",
       "\n",
       "    .dataframe thead th {\n",
       "        text-align: right;\n",
       "    }\n",
       "</style>\n",
       "<table border=\"1\" class=\"dataframe\">\n",
       "  <thead>\n",
       "    <tr style=\"text-align: right;\">\n",
       "      <th></th>\n",
       "      <th>Weight (%)</th>\n",
       "    </tr>\n",
       "    <tr>\n",
       "      <th>channel</th>\n",
       "      <th></th>\n",
       "    </tr>\n",
       "  </thead>\n",
       "  <tbody>\n",
       "    <tr>\n",
       "      <th>Paid Search</th>\n",
       "      <td>27.48</td>\n",
       "    </tr>\n",
       "    <tr>\n",
       "      <th>Online Display</th>\n",
       "      <td>26.61</td>\n",
       "    </tr>\n",
       "    <tr>\n",
       "      <th>Instagram</th>\n",
       "      <td>16.65</td>\n",
       "    </tr>\n",
       "    <tr>\n",
       "      <th>Facebook</th>\n",
       "      <td>16.28</td>\n",
       "    </tr>\n",
       "    <tr>\n",
       "      <th>Online Video</th>\n",
       "      <td>12.99</td>\n",
       "    </tr>\n",
       "  </tbody>\n",
       "</table>\n",
       "</div>"
      ],
      "text/plain": [
       "                Weight (%)\n",
       "channel                   \n",
       "Paid Search          27.48\n",
       "Online Display       26.61\n",
       "Instagram            16.65\n",
       "Facebook             16.28\n",
       "Online Video         12.99"
      ]
     },
     "execution_count": 7,
     "metadata": {},
     "output_type": "execute_result"
    }
   ],
   "source": [
    "u_shaped_result = U_shaped_model_optimized(df, conv_col='conversion', channel_col='channel', user_id='cookie')\n",
    "u_shaped_result"
   ]
  },
  {
   "cell_type": "code",
   "execution_count": 9,
   "id": "86a45626-b1a3-4311-8198-89f6b8f82e70",
   "metadata": {},
   "outputs": [
    {
     "data": {
      "image/png": "[encoded data removed]",
      "text/plain": [
       "<Figure size 1000x600 with 1 Axes>"
      ]
     },
     "metadata": {},
     "output_type": "display_data"
    }
   ],
   "source": [
    "plt.subplots(figsize=(10, 6))\n",
    "sns.barplot(data=u_shaped_result, x=u_shaped_result.index, y='Weight (%)')\n",
    "plt.xlabel('Channel')\n",
    "plt.title('U-Shaped Model Channel Weights', fontsize=20)\n",
    "plt.savefig('plot/U_shaped.png')"
   ]
  },
  {
   "cell_type": "code",
   "execution_count": null,
   "id": "1c319200-7d9b-43ed-bc64-02b9dab42992",
   "metadata": {},
   "outputs": [],
   "source": []
  }
 ],
 "metadata": {
  "kernelspec": {
   "display_name": "Python 3 (ipykernel)",
   "language": "python",
   "name": "python3"
  },
  "language_info": {
   "codemirror_mode": {
    "name": "ipython",
    "version": 3
   },
   "file_extension": ".py",
   "mimetype": "text/x-python",
   "name": "python",
   "nbconvert_exporter": "python",
   "pygments_lexer": "ipython3",
   "version": "3.11.7"
  }
 },
 "nbformat": 4,
 "nbformat_minor": 5
}
